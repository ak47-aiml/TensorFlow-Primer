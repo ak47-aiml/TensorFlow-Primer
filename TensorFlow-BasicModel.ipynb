{
 "cells": [
  {
   "cell_type": "markdown",
   "metadata": {},
   "source": [
    "# TensorFlow Basic Model"
   ]
  },
  {
   "cell_type": "markdown",
   "metadata": {},
   "source": [
    "<font color='steelblue'>\n",
    "\n",
    "## Building a Simple Model with TensorFlow and Keras\n",
    "\n",
    "</font>\n",
    "\n",
    "<font color = 'grey'>\n",
    "<font size = 3>\n",
    "\n",
    "### Following examples are included in the processing:<br>\n",
    "  \n",
    "1. `Importing` Tensorflow, Keras and Numpy libraries\n",
    "2. `Checking` if tensorflow is set up imported\n",
    "3. `Create` data for the model to train on\n",
    "4. `Define` a neural network\n",
    "5. `Compile` the model\n",
    "6. `Train` the neural network to build a model\n",
    "7. `Make` prediction with the model\n",
    "</font>\n",
    "</font>"
   ]
  },
  {
   "cell_type": "code",
   "execution_count": null,
   "metadata": {},
   "outputs": [],
   "source": [
    "import tensorflow as tf\n",
    "import numpy as np\n",
    "import matplotlib.pyplot as plt\n",
    "from tensorflow import keras"
   ]
  },
  {
   "cell_type": "code",
   "execution_count": null,
   "metadata": {},
   "outputs": [],
   "source": [
    "import warnings\n",
    "warnings.simplefilter(action='ignore', category=FutureWarning)\n",
    "\n",
    "from tensorflow.python.util import deprecation\n",
    "deprecation._PRINT_DEPRECATION_WARNINGS = False"
   ]
  },
  {
   "cell_type": "code",
   "execution_count": null,
   "metadata": {},
   "outputs": [],
   "source": [
    "tf.__version__"
   ]
  },
  {
   "cell_type": "code",
   "execution_count": null,
   "metadata": {},
   "outputs": [],
   "source": [
    "keras.__version__"
   ]
  },
  {
   "cell_type": "markdown",
   "metadata": {},
   "source": [
    "## verify the tensorflow import"
   ]
  },
  {
   "cell_type": "code",
   "execution_count": null,
   "metadata": {},
   "outputs": [],
   "source": [
    "# data of 1000 rows and 1000 columns\n",
    "data = tf.random.normal([1000, 1000])"
   ]
  },
  {
   "cell_type": "code",
   "execution_count": null,
   "metadata": {},
   "outputs": [],
   "source": [
    "data"
   ]
  },
  {
   "cell_type": "code",
   "execution_count": null,
   "metadata": {},
   "outputs": [],
   "source": [
    "data.shape"
   ]
  },
  {
   "cell_type": "code",
   "execution_count": null,
   "metadata": {},
   "outputs": [],
   "source": [
    "print(tf.reduce_sum(tf.random.normal([1000, 1000])))"
   ]
  },
  {
   "cell_type": "markdown",
   "metadata": {},
   "source": [
    "## Data for building the model<br>\n",
    "<font color='gray'> \n",
    "<font size=4>\n",
    "X: -1, 0, 1, 2, 3, 4<br>\n",
    "y: -2, 1, 4, 7, 10, 13<br><br>\n",
    "    <b>Seems like the relation is:<br> $y = 3x + 1$ </b>\n",
    "    </font>\n",
    "</font>"
   ]
  },
  {
   "cell_type": "code",
   "execution_count": null,
   "metadata": {},
   "outputs": [],
   "source": [
    "X = np.array([-1.0, 0.0, 1.0, 2.0, 3.0, 4.0], dtype=float)"
   ]
  },
  {
   "cell_type": "code",
   "execution_count": null,
   "metadata": {},
   "outputs": [],
   "source": [
    "y = np.array([-2.0, 1.0, 4.0, 7.0, 10.0, 13.0], dtype=float)"
   ]
  },
  {
   "cell_type": "code",
   "execution_count": null,
   "metadata": {},
   "outputs": [],
   "source": [
    "X.shape, y.shape"
   ]
  },
  {
   "cell_type": "markdown",
   "metadata": {},
   "source": [
    "## Define the neural network"
   ]
  },
  {
   "cell_type": "code",
   "execution_count": null,
   "metadata": {},
   "outputs": [],
   "source": [
    "tf.random.set_seed(2345)\n",
    "model = tf.keras.Sequential([keras.layers.Dense(units=1, input_shape=[1])])"
   ]
  },
  {
   "cell_type": "markdown",
   "metadata": {},
   "source": [
    "## Compile the network <br>\n",
    "\n",
    "<font color = 'black'>\n",
    "\n",
    "Need to parameters to compile neural network:\n",
    "* **loss function**\n",
    "* **optimizer**\n",
    "    \n",
    "- When the computer is trying to learn that, it makes a guess, maybe $y=10x + 10$. The **loss** function measures the guessed answers against the known correct answers and measures how well or badly it did.  \n",
    "- Next, the model uses the **optimizer** function to make another guess. Based on the loss function's result, it tries to minimize the loss. At this point, maybe it will come up with something like $y=5x + 5$. While that's still pretty bad, it's closer to the correct result (the loss is lower)\n",
    "- The model repeats that for the number of epochs, which you'll see shortly. First, here's how to tell it to use `mean_squared_error` or `mean_absolute_error `for the loss and `stochastic gradient descent (sgd)` for the optimizer.   \n",
    "</font>"
   ]
  },
  {
   "cell_type": "code",
   "execution_count": null,
   "metadata": {},
   "outputs": [],
   "source": [
    "tf.random.set_seed(2345)\n",
    "\n",
    "#model.compile(optimizer='sgd', loss='mean_squared_error')\n",
    "model.compile(optimizer = 'sgd', loss = 'mean_absolute_error')"
   ]
  },
  {
   "cell_type": "code",
   "execution_count": null,
   "metadata": {},
   "outputs": [],
   "source": [
    "model.summary()"
   ]
  },
  {
   "cell_type": "code",
   "execution_count": null,
   "metadata": {},
   "outputs": [],
   "source": [
    "# Get the starting weight and the constant\n",
    "model.get_weights()"
   ]
  },
  {
   "cell_type": "markdown",
   "metadata": {},
   "source": [
    "## Train the network to build a model"
   ]
  },
  {
   "cell_type": "code",
   "execution_count": null,
   "metadata": {
    "scrolled": true
   },
   "outputs": [],
   "source": [
    "%%time\n",
    "tf.random.set_seed(2345)\n",
    "history = model.fit(X, y, epochs = 500, verbose = 0)"
   ]
  },
  {
   "cell_type": "code",
   "execution_count": null,
   "metadata": {},
   "outputs": [],
   "source": [
    "# loss values per epoch\n",
    "history.history['loss'][:5]"
   ]
  },
  {
   "cell_type": "raw",
   "metadata": {},
   "source": [
    "history.history"
   ]
  },
  {
   "cell_type": "code",
   "execution_count": null,
   "metadata": {},
   "outputs": [],
   "source": [
    "plt.figure(figsize = (5,3))\n",
    "plt.plot(history.history['loss']);"
   ]
  },
  {
   "cell_type": "code",
   "execution_count": null,
   "metadata": {},
   "outputs": [],
   "source": [
    "# predict if x was 10.0\n",
    "model.predict([10.0])"
   ]
  },
  {
   "cell_type": "code",
   "execution_count": null,
   "metadata": {
    "scrolled": true
   },
   "outputs": [],
   "source": [
    "model.get_weights()"
   ]
  },
  {
   "cell_type": "markdown",
   "metadata": {},
   "source": [
    "<font color = 'black'>\n",
    "\n",
    "You might have thought `y = 31`, right? But in the example output above, but it is not exactly `31.xxx`. Why do you think that is?<br><br>\n",
    "**Answer:** Neural networks deal with probabilities, so given the data that you fed in to it, the neural network calculated a very high probability that the relationship between $x$ and $y$ is $y = 3x+1$, but with only 6 data points you can't know for sure. As a result, the result for 10 is very close to 31, but not necessarily 31.\n",
    "    </font>"
   ]
  },
  {
   "cell_type": "markdown",
   "metadata": {},
   "source": [
    "<font color = 'tomato'>\n",
    "<font size = 4>\n",
    "    \n",
    "- Try changing the number of epochs & observe the weights and the bias learnt\n",
    "- Change the number of units & observe the weight and the bias learnt\n",
    "    \n",
    "</font>\n",
    "</font>"
   ]
  }
 ],
 "metadata": {
  "kernelspec": {
   "display_name": "Python 3 (ipykernel)",
   "language": "python",
   "name": "python3"
  },
  "language_info": {
   "codemirror_mode": {
    "name": "ipython",
    "version": 3
   },
   "file_extension": ".py",
   "mimetype": "text/x-python",
   "name": "python",
   "nbconvert_exporter": "python",
   "pygments_lexer": "ipython3",
   "version": "3.9.13"
  },
  "toc": {
   "base_numbering": 1,
   "nav_menu": {},
   "number_sections": false,
   "sideBar": true,
   "skip_h1_title": false,
   "title_cell": "Table of Contents",
   "title_sidebar": "Contents",
   "toc_cell": false,
   "toc_position": {},
   "toc_section_display": true,
   "toc_window_display": false
  }
 },
 "nbformat": 4,
 "nbformat_minor": 4
}
